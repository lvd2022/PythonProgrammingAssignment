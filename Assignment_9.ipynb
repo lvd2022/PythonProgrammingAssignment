{
  "nbformat": 4,
  "nbformat_minor": 0,
  "metadata": {
    "colab": {
      "provenance": [],
      "authorship_tag": "ABX9TyMvaHFyRPfbSpC73IVQo0IQ",
      "include_colab_link": true
    },
    "kernelspec": {
      "name": "python3",
      "display_name": "Python 3"
    },
    "language_info": {
      "name": "python"
    }
  },
  "cells": [
    {
      "cell_type": "markdown",
      "metadata": {
        "id": "view-in-github",
        "colab_type": "text"
      },
      "source": [
        "<a href=\"https://colab.research.google.com/github/lvd2022/PythonProgrammingAssignment/blob/main/Assignment_9.ipynb\" target=\"_parent\"><img src=\"https://colab.research.google.com/assets/colab-badge.svg\" alt=\"Open In Colab\"/></a>"
      ]
    },
    {
      "cell_type": "markdown",
      "source": [
        "1. Write a Python program to check if the given number is a Disarium Number?\n"
      ],
      "metadata": {
        "id": "MVFkmLeVXycc"
      }
    },
    {
      "cell_type": "code",
      "execution_count": null,
      "metadata": {
        "colab": {
          "base_uri": "https://localhost:8080/"
        },
        "id": "kDbL1TwtXqJR",
        "outputId": "09a8a941-1e2c-40b3-b3bb-d75d3ef6c5c8"
      },
      "outputs": [
        {
          "output_type": "stream",
          "name": "stdout",
          "text": [
            "175 is a disarium number\n"
          ]
        }
      ],
      "source": [
        "#calculateLength() will count the digits present in a number    \n",
        "def calculateLength(n):    \n",
        "    length = 0;    \n",
        "    while(n != 0):    \n",
        "        length = length + 1;    \n",
        "        n = n//10;    \n",
        "    return length;    \n",
        "     \n",
        "num = 175;    \n",
        "rem = sum = 0;    \n",
        "len = calculateLength(num);    \n",
        "     \n",
        "#Makes a copy of the original number num    \n",
        "n = num;    \n",
        "     \n",
        "#Calculates the sum of digits powered with their respective position    \n",
        "while(num > 0):    \n",
        "    rem = num%10;    \n",
        "    sum = sum + int(rem**len);    \n",
        "    num = num//10;    \n",
        "    len = len - 1;    \n",
        "     \n",
        "#Checks whether the sum is equal to the number itself    \n",
        "if(sum == n):    \n",
        "    print(str(n) + \" is a disarium number\");    \n",
        "else:    \n",
        "    print(str(n) + \" is not a disarium number\");    "
      ]
    },
    {
      "cell_type": "markdown",
      "source": [
        "2. Write a Python program to print all disarium numbers between 1 to 100?\n"
      ],
      "metadata": {
        "id": "vhQoY4d0X2MI"
      }
    },
    {
      "cell_type": "code",
      "source": [
        "#calculateLength() will count the digits present in a number    \n",
        "def calculateLength(n):    \n",
        "    length = 0;    \n",
        "    while(n != 0):    \n",
        "        length = length + 1;    \n",
        "        n = n//10;    \n",
        "    return length;    \n",
        "     \n",
        "#sumOfDigits() will calculates the sum of digits powered with their respective position  \n",
        "def sumOfDigits(num):  \n",
        "    rem = sum = 0;  \n",
        "    len = calculateLength(num);   \n",
        "#Calculates the sum of digits powered with their respective position    \n",
        "  while(num > 0):    \n",
        "    rem = num%10;    \n",
        "    sum = sum + int(rem**len);    \n",
        "    num = num//10;    \n",
        "    len = len - 1\n",
        "   return sum;    \n",
        "result = 0;    \n",
        "\n",
        "#Checks whether the sum is equal to the number itself    \n",
        "for i in range(1, 101):  \n",
        "    result = sumOfDigits(i);  \n",
        "      \n",
        "    if(result == i):  \n",
        "        print(i),"
      ],
      "metadata": {
        "id": "Z05uGfXrX51Y"
      },
      "execution_count": null,
      "outputs": []
    },
    {
      "cell_type": "markdown",
      "source": [
        "3. Write a Python program to check if the given number is Happy Number?\n"
      ],
      "metadata": {
        "id": "1MQRiwHlX6I4"
      }
    },
    {
      "cell_type": "code",
      "source": [
        "#isHappyNumber() will determine whether a number is happy or not    \n",
        "def isHappyNumber(num):    \n",
        "    rem = sum = 0;    \n",
        "        \n",
        "    #Calculates the sum of squares of digits    \n",
        "    while(num > 0):    \n",
        "        rem = num%10;    \n",
        "        sum = sum + (rem*rem);    \n",
        "        num = num//10;    \n",
        "    return sum;    \n",
        "        \n",
        "num = 82;    \n",
        "result = num;    \n",
        "     \n",
        "while(result != 1 and result != 4):    \n",
        "    result = isHappyNumber(result);    \n",
        "     \n",
        "#Happy number always ends with 1    \n",
        "if(result == 1):    \n",
        "    print(str(num) + \" is a happy number\");    \n",
        "#Unhappy number ends in a cycle of repeating numbers which contain 4    \n",
        "elif(result == 4):    \n",
        "    print(str(num) + \" is not a happy number\");   "
      ],
      "metadata": {
        "id": "oZUn0UFVX8Fv",
        "colab": {
          "base_uri": "https://localhost:8080/"
        },
        "outputId": "3621302c-c000-490d-ddb4-1c0e301dfe61"
      },
      "execution_count": 1,
      "outputs": [
        {
          "output_type": "stream",
          "name": "stdout",
          "text": [
            "82 is a happy number\n"
          ]
        }
      ]
    },
    {
      "cell_type": "markdown",
      "source": [
        "4. Write a Python program to print all happy numbers between 1 and 100?\n"
      ],
      "metadata": {
        "id": "D9uqVGtjX8ZO"
      }
    },
    {
      "cell_type": "code",
      "source": [
        "#isHappyNumber() will determine whether a number is happy or not    \n",
        "def isHappyNumber(num):    \n",
        "    rem = sum = 0;    \n",
        "        \n",
        "    #Calculates the sum of squares of digits    \n",
        "    while(num > 0):    \n",
        "        rem = num%10;    \n",
        "        sum = sum + (rem*rem);    \n",
        "        num = num//10;    \n",
        "    return sum;    \n",
        "            \n",
        "#Displays all happy numbers between 1 and 100    \n",
        "print(\"List of happy numbers between 1 and 100: \");    \n",
        "for i in range(1, 101):    \n",
        "    result = i;    \n",
        "        \n",
        "    #Happy number always ends with 1 and     \n",
        "    #unhappy number ends in a cycle of repeating numbers which contains 4    \n",
        "    while(result != 1 and result != 4):    \n",
        "        result = isHappyNumber(result);    \n",
        "        \n",
        "    if(result == 1):    \n",
        "        print(i,end=' ')   "
      ],
      "metadata": {
        "id": "5-ALvrWDX-Lf",
        "colab": {
          "base_uri": "https://localhost:8080/"
        },
        "outputId": "705ce0b5-a713-4f4e-da72-981d64737699"
      },
      "execution_count": 4,
      "outputs": [
        {
          "output_type": "stream",
          "name": "stdout",
          "text": [
            "List of happy numbers between 1 and 100: \n",
            "1 7 10 13 19 23 28 31 32 44 49 68 70 79 82 86 91 94 97 100 "
          ]
        }
      ]
    },
    {
      "cell_type": "markdown",
      "source": [
        "5. Write a Python program to determine whether the given number is a Harshad Number?\n"
      ],
      "metadata": {
        "id": "RaWaItOXX-f1"
      }
    },
    {
      "cell_type": "code",
      "source": [
        "num=int(input('enter number:'))\n",
        "digit=sum=0\n",
        "temp=num\n",
        "\n",
        "while temp>0:\n",
        " digit=temp%10\n",
        " sum+=digit\n",
        " temp=temp//10\n",
        "\n",
        "if num%sum==0:\n",
        "  print(num, 'is harshad')\n",
        "else:\n",
        "  print(num, 'is not harshad')"
      ],
      "metadata": {
        "colab": {
          "base_uri": "https://localhost:8080/"
        },
        "id": "Zk7SasoHbqsL",
        "outputId": "f86a922e-2336-4f33-fc95-5a63f3132e5a"
      },
      "execution_count": 5,
      "outputs": [
        {
          "output_type": "stream",
          "name": "stdout",
          "text": [
            "enter number:123\n",
            "123 is not harshad\n"
          ]
        }
      ]
    },
    {
      "cell_type": "markdown",
      "source": [
        "6. Write a Python program to print all pronic numbers between 1 and 100?"
      ],
      "metadata": {
        "id": "_uPRy9MSYA_0"
      }
    },
    {
      "cell_type": "code",
      "source": [
        "def checkPronic(Number):\n",
        " i=0\n",
        " Flag=0\n",
        " while i<=Number:\n",
        "   if Number==i*(i+1):\n",
        "     Flag=1\n",
        "     break  \n",
        "   i=i+1\n",
        " return Flag\n",
        "\n",
        "lower=int(input('enter lower number: '))\n",
        "upper=int(input('enter upper number: '))\n",
        "print('pronic between {0} and {1}'.format(lower,upper))\n",
        "for i in range(lower,upper):\n",
        "  if checkPronic(i)==1:\n",
        "    print(i,end='  ')\n"
      ],
      "metadata": {
        "colab": {
          "base_uri": "https://localhost:8080/"
        },
        "id": "HvYJK0cPdwlc",
        "outputId": "d2367db1-4ac2-4989-dba3-714776580c17"
      },
      "execution_count": 12,
      "outputs": [
        {
          "output_type": "stream",
          "name": "stdout",
          "text": [
            "enter lower number: 1\n",
            "enter upper number: 100\n",
            "pronic between 1 and 100\n",
            "2  6  12  20  30  42  56  72  90  "
          ]
        }
      ]
    }
  ]
}