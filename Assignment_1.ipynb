{
  "nbformat": 4,
  "nbformat_minor": 0,
  "metadata": {
    "colab": {
      "provenance": []
    },
    "kernelspec": {
      "name": "python3",
      "display_name": "Python 3"
    },
    "language_info": {
      "name": "python"
    }
  },
  "cells": [
    {
      "cell_type": "markdown",
      "source": [
        "1.Write a Python program to print &quot;Hello Python&quot;?"
      ],
      "metadata": {
        "id": "h_sLpeMMiEjU"
      }
    },
    {
      "cell_type": "code",
      "execution_count": 1,
      "metadata": {
        "id": "nsWkdFKLg7e6",
        "colab": {
          "base_uri": "https://localhost:8080/"
        },
        "outputId": "8540a373-4b80-4aba-95bd-3e5fbc187947"
      },
      "outputs": [
        {
          "output_type": "stream",
          "name": "stdout",
          "text": [
            "Hello Python\n"
          ]
        }
      ],
      "source": [
        "print('Hello Python')"
      ]
    },
    {
      "cell_type": "markdown",
      "source": [
        "2.Write a Python program to do arithmetical operations addition and division.?"
      ],
      "metadata": {
        "id": "PKieMYthiZ7W"
      }
    },
    {
      "cell_type": "code",
      "source": [
        "(1+1)/2"
      ],
      "metadata": {
        "colab": {
          "base_uri": "https://localhost:8080/"
        },
        "id": "Kliyfu1zigai",
        "outputId": "9db26296-160a-4e42-d928-1402e8e1c165"
      },
      "execution_count": 4,
      "outputs": [
        {
          "output_type": "execute_result",
          "data": {
            "text/plain": [
              "1.0"
            ]
          },
          "metadata": {},
          "execution_count": 4
        }
      ]
    },
    {
      "cell_type": "markdown",
      "source": [
        "3.Write a Python program to find the area of a triangle?\n",
        "\n",
        "\n"
      ],
      "metadata": {
        "id": "gVB65JPNi4Oj"
      }
    },
    {
      "cell_type": "code",
      "source": [
        "breadth=2\n",
        "height=3\n",
        "area=0.5*breadth*height\n",
        "area"
      ],
      "metadata": {
        "colab": {
          "base_uri": "https://localhost:8080/"
        },
        "id": "WNQAb_xWi7lo",
        "outputId": "dfc75d6b-3ccb-49ea-cd29-bade2b6de7f7"
      },
      "execution_count": 5,
      "outputs": [
        {
          "output_type": "execute_result",
          "data": {
            "text/plain": [
              "3.0"
            ]
          },
          "metadata": {},
          "execution_count": 5
        }
      ]
    },
    {
      "cell_type": "markdown",
      "source": [
        "4.Write a Python program to swap two variables?"
      ],
      "metadata": {
        "id": "74Bvq8WMjkDW"
      }
    },
    {
      "cell_type": "code",
      "source": [
        "a=1\n",
        "b=2\n",
        "# c=a\n",
        "# a=b\n",
        "# b=c\n",
        "a,b=b,a\n",
        "print(a,b)"
      ],
      "metadata": {
        "colab": {
          "base_uri": "https://localhost:8080/"
        },
        "id": "rY9JJz-rjRqC",
        "outputId": "12634056-3b14-4e6c-a5ad-fa022cac2518"
      },
      "execution_count": 9,
      "outputs": [
        {
          "output_type": "stream",
          "name": "stdout",
          "text": [
            "2 1\n"
          ]
        }
      ]
    },
    {
      "cell_type": "markdown",
      "source": [
        "5. Write a Python program to generate a random number?"
      ],
      "metadata": {
        "id": "msoPJbmMkNZW"
      }
    },
    {
      "cell_type": "code",
      "source": [
        "import random\n",
        "print(random.random())\n",
        "print(random.randint(0,5))"
      ],
      "metadata": {
        "colab": {
          "base_uri": "https://localhost:8080/"
        },
        "id": "Nbt8YnkRkRwF",
        "outputId": "bd13d7ca-61f5-417a-8fa7-c8a72c803855"
      },
      "execution_count": 23,
      "outputs": [
        {
          "output_type": "stream",
          "name": "stdout",
          "text": [
            "0.1599670263438524\n",
            "5\n"
          ]
        }
      ]
    }
  ]
}