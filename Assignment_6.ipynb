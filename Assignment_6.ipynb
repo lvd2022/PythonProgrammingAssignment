{
  "nbformat": 4,
  "nbformat_minor": 0,
  "metadata": {
    "colab": {
      "provenance": [],
      "authorship_tag": "ABX9TyOTxrqFmB4CtWkp8CfM2/FQ",
      "include_colab_link": true
    },
    "kernelspec": {
      "name": "python3",
      "display_name": "Python 3"
    },
    "language_info": {
      "name": "python"
    }
  },
  "cells": [
    {
      "cell_type": "markdown",
      "metadata": {
        "id": "view-in-github",
        "colab_type": "text"
      },
      "source": [
        "<a href=\"https://colab.research.google.com/github/lvd2022/PythonProgrammingAssignment/blob/main/Assignment_6.ipynb\" target=\"_parent\"><img src=\"https://colab.research.google.com/assets/colab-badge.svg\" alt=\"Open In Colab\"/></a>"
      ]
    },
    {
      "cell_type": "markdown",
      "source": [
        "1. Write a Python Program to Display Fibonacci Sequence Using Recursion?"
      ],
      "metadata": {
        "id": "_F2i40KJjkAX"
      }
    },
    {
      "cell_type": "markdown",
      "source": [
        "Recursion is when a function refers to itself to break down the problem it’s trying to solve."
      ],
      "metadata": {
        "id": "DOf-JqgOtIbX"
      }
    },
    {
      "cell_type": "code",
      "execution_count": 3,
      "metadata": {
        "colab": {
          "base_uri": "https://localhost:8080/"
        },
        "id": "6OwRX7g2jdrB",
        "outputId": "323aa435-03de-4399-e391-fc1083f0dba8"
      },
      "outputs": [
        {
          "output_type": "stream",
          "name": "stdout",
          "text": [
            "enter:12\n",
            "144\n"
          ]
        }
      ],
      "source": [
        "n=int(input('enter:'))\n",
        "def recur_fibo(n):\n",
        "   if n <= 1:\n",
        "       return n\n",
        "   else:\n",
        "       return(recur_fibo(n-1) + recur_fibo(n-2))\n",
        "print(recur_fibo(n))\n"
      ]
    },
    {
      "cell_type": "markdown",
      "source": [
        "2. Write a Python Program to Find Factorial of Number Using Recursion?"
      ],
      "metadata": {
        "id": "IU2Dt3vrjlbM"
      }
    },
    {
      "cell_type": "code",
      "source": [
        "n=int(input('enter:'))\n",
        "\n",
        "def recur_facto(n):\n",
        "  if n==1:\n",
        "    return n\n",
        "  else:\n",
        "   return n*recur_facto(n-1)\n",
        "\n",
        "if n==0:\n",
        "     print('factorial of 0 is 1')\n",
        "elif n < 0:\n",
        "       print('enter number>0')\n",
        "else:\n",
        "     print(recur_facto(n))"
      ],
      "metadata": {
        "colab": {
          "base_uri": "https://localhost:8080/"
        },
        "id": "hk4DACE8jo6v",
        "outputId": "df21cf7c-a4f9-4a6c-a067-5883fbe6476a"
      },
      "execution_count": 31,
      "outputs": [
        {
          "output_type": "stream",
          "name": "stdout",
          "text": [
            "enter:0\n",
            "factorial of 0 is 1\n"
          ]
        }
      ]
    },
    {
      "cell_type": "markdown",
      "source": [
        "3. Write a Python Program to calculate your Body Mass Index?"
      ],
      "metadata": {
        "id": "QQJOBcrzjpSD"
      }
    },
    {
      "cell_type": "code",
      "source": [
        "weight=float(input('enter weight in kg: '))\n",
        "height=float(input('enter height in m: '))\n",
        "BMI=weight/(height**2)\n",
        "print(BMI)\n",
        "if BMI <= 18.4:\n",
        "    print(\"You are underweight.\")\n",
        "elif BMI <= 24.9:\n",
        "    print(\"You are healthy.\")\n",
        "else:\n",
        "    print(\"You are over weight.\")\n"
      ],
      "metadata": {
        "colab": {
          "base_uri": "https://localhost:8080/"
        },
        "id": "cti3o297jr8b",
        "outputId": "da2293fb-5c26-478f-ef66-5e838b1d4103"
      },
      "execution_count": 40,
      "outputs": [
        {
          "output_type": "stream",
          "name": "stdout",
          "text": [
            "enter weight in kg: 69\n",
            "enter height in m: 1.72\n",
            "23.323418063818284\n",
            "You are healthy.\n"
          ]
        }
      ]
    },
    {
      "cell_type": "markdown",
      "source": [
        "4. Write a Python Program to calculate the natural logarithm of any number?"
      ],
      "metadata": {
        "id": "FPzKkDZEjsMb"
      }
    },
    {
      "cell_type": "code",
      "source": [
        "\n",
        "import math\n",
        "num=int(input('enter num:'))\n",
        "print (math.log(num))\n",
        " "
      ],
      "metadata": {
        "colab": {
          "base_uri": "https://localhost:8080/"
        },
        "id": "IgyAXyqrju1p",
        "outputId": "92491e69-f9a0-4027-b2c0-c0d29a005f12"
      },
      "execution_count": 44,
      "outputs": [
        {
          "output_type": "stream",
          "name": "stdout",
          "text": [
            "enter num:3\n",
            "1.0986122886681098\n"
          ]
        }
      ]
    },
    {
      "cell_type": "markdown",
      "source": [
        "5. Write a Python Program for cube sum of first n natural numbers?"
      ],
      "metadata": {
        "id": "WgGERZDcjvDs"
      }
    },
    {
      "cell_type": "code",
      "source": [
        "n=int(input('enter number:'))\n",
        "s=0\n",
        "for i in range(1,n+1):\n",
        "  s+=pow(i,3)\n",
        "print(s)\n",
        "\n"
      ],
      "metadata": {
        "colab": {
          "base_uri": "https://localhost:8080/"
        },
        "id": "DpQ_TqwVAXo5",
        "outputId": "117f1df0-d831-43bb-d59e-dc46c2df0926"
      },
      "execution_count": 53,
      "outputs": [
        {
          "output_type": "stream",
          "name": "stdout",
          "text": [
            "enter number:3\n",
            "36\n"
          ]
        }
      ]
    }
  ]
}