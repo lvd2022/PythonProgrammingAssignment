{
  "nbformat": 4,
  "nbformat_minor": 0,
  "metadata": {
    "colab": {
      "provenance": [],
      "include_colab_link": true
    },
    "kernelspec": {
      "name": "python3",
      "display_name": "Python 3"
    },
    "language_info": {
      "name": "python"
    }
  },
  "cells": [
    {
      "cell_type": "markdown",
      "metadata": {
        "id": "view-in-github",
        "colab_type": "text"
      },
      "source": [
        "<a href=\"https://colab.research.google.com/github/lvd2022/PythonProgrammingAssignment/blob/main/Assignment_11.ipynb\" target=\"_parent\"><img src=\"https://colab.research.google.com/assets/colab-badge.svg\" alt=\"Open In Colab\"/></a>"
      ]
    },
    {
      "cell_type": "markdown",
      "source": [
        "1. Write a Python program to find words which are greater than given length k?"
      ],
      "metadata": {
        "id": "QIoDV-Npge3W"
      }
    },
    {
      "cell_type": "code",
      "source": [
        "k=int(input('enter length:'))\n",
        "words=[]\n",
        "n=int(input('enter number of words:'))\n",
        "for i in range(0,n):\n",
        "  word=input('enter word:')\n",
        "  words.append(word)\n",
        "lst=[]\n",
        "for word in words:\n",
        "  if len(word)>k:\n",
        "    lst.append(word)\n",
        "print(lst)\n",
        "\n",
        "\n"
      ],
      "metadata": {
        "colab": {
          "base_uri": "https://localhost:8080/"
        },
        "id": "EyJVOvbngeXs",
        "outputId": "c751f808-979c-4b2a-c665-fa90a2679e86"
      },
      "execution_count": null,
      "outputs": [
        {
          "output_type": "stream",
          "name": "stdout",
          "text": [
            "enter length:3\n",
            "enter number of words:6\n",
            "enter word:i\n",
            "enter word:am\n",
            "enter word:suer\n",
            "enter word:lovely\n",
            "enter word:and\n",
            "enter word:mary\n",
            "['suer', 'lovely', 'mary']\n"
          ]
        }
      ]
    },
    {
      "cell_type": "markdown",
      "source": [
        "2. Write a Python program for removing i-th character from a string?"
      ],
      "metadata": {
        "id": "JlDh-ODOlwjh"
      }
    },
    {
      "cell_type": "code",
      "source": [
        "i=int(input('enter ith number in character to remove: ' ))\n",
        "string=input('enter string: ')\n",
        "a=string.replace(string[i], \"\")\n",
        "a"
      ],
      "metadata": {
        "colab": {
          "base_uri": "https://localhost:8080/",
          "height": 70
        },
        "id": "hX6LGG-qNGW3",
        "outputId": "2d5d247b-4048-4550-a13e-a85ba9b8cab3"
      },
      "execution_count": null,
      "outputs": [
        {
          "name": "stdout",
          "output_type": "stream",
          "text": [
            "enter ith number in character to remove: 2\n",
            "enter string: love\n"
          ]
        },
        {
          "output_type": "execute_result",
          "data": {
            "text/plain": [
              "'loe'"
            ],
            "application/vnd.google.colaboratory.intrinsic+json": {
              "type": "string"
            }
          },
          "metadata": {},
          "execution_count": 3
        }
      ]
    },
    {
      "cell_type": "markdown",
      "source": [
        "3. Write a Python program to split and join a string?"
      ],
      "metadata": {
        "id": "kqKpcoeaNhPS"
      }
    },
    {
      "cell_type": "code",
      "execution_count": null,
      "metadata": {
        "colab": {
          "base_uri": "https://localhost:8080/"
        },
        "id": "__0DmuKHgXTX",
        "outputId": "8b81ad0a-bf2a-4b8d-c0c0-28d4a0893d10"
      },
      "outputs": [
        {
          "output_type": "stream",
          "name": "stdout",
          "text": [
            "enter string:jbh ij nijjnj\n",
            "['jbh', 'ij', 'nijjnj']\n",
            "jbh-ij-nijjnj\n"
          ]
        }
      ],
      "source": [
        "s=input('enter string:')\n",
        "print(s.split(' '))\n",
        "print('-'.join(s.split(' ')))\n"
      ]
    },
    {
      "cell_type": "markdown",
      "source": [
        "4. Write a Python to check if a given string is binary string or not?"
      ],
      "metadata": {
        "id": "WIogCWfRgc1p"
      }
    },
    {
      "cell_type": "code",
      "source": [
        "def check(string):\n",
        "\tp = set(string)\n",
        "\ts = {'0', '1'}\n",
        "\tif s == p or p == {'0'} or p == {'1'}:\n",
        "\t\tprint(\"Yes\")\n",
        "\telse:\n",
        "\t\tprint(\"No\")\n",
        "  \n",
        "if __name__ == \"__main__\":  \n",
        "\n",
        "\tstring = \"101010000111\"\n",
        "\tcheck(string)\n"
      ],
      "metadata": {
        "colab": {
          "base_uri": "https://localhost:8080/"
        },
        "id": "c_VNB6ldlyF4",
        "outputId": "906be179-c06f-46e3-ee1a-f8bf960d4fb1"
      },
      "execution_count": null,
      "outputs": [
        {
          "output_type": "stream",
          "name": "stdout",
          "text": [
            "Yes\n"
          ]
        }
      ]
    },
    {
      "cell_type": "markdown",
      "source": [
        "5. Write a Python program to find uncommon words from two Strings?"
      ],
      "metadata": {
        "id": "Ir1fVUnC0que"
      }
    },
    {
      "cell_type": "code",
      "source": [
        "def uncommon(c,d):  \n",
        "  c=c.split()\n",
        "  d=d.split()\n",
        "  x=[]\n",
        "  for i in c:\n",
        "    if i not in d:\n",
        "      x.append(i)\n",
        "  for i in d:\n",
        "    if i not in c:\n",
        "      x.append(i)\n",
        "      x=list(set(x))\n",
        "      return x\n",
        "c=input('enter a:')\n",
        "d=input('enter b:')\n",
        "print(uncommon(c,d))"
      ],
      "metadata": {
        "colab": {
          "base_uri": "https://localhost:8080/"
        },
        "id": "AmzUzHL7lyDV",
        "outputId": "e794b6ac-4320-469c-92bb-4f43c3dbf3aa"
      },
      "execution_count": null,
      "outputs": [
        {
          "output_type": "stream",
          "name": "stdout",
          "text": [
            "enter a:kev is super boy\n",
            "enter b:lovely is super girl\n",
            "['lovely', 'boy', 'kev']\n"
          ]
        }
      ]
    },
    {
      "cell_type": "markdown",
      "source": [
        "6. Write a Python to find all duplicate characters in string?"
      ],
      "metadata": {
        "id": "GBiPATpY-aQv"
      }
    },
    {
      "cell_type": "code",
      "source": [
        "strng=input('enter string:')\n",
        "x=[]\n",
        "for i in strng:\n",
        "   if i not in x and strng.count(i)>1:\n",
        "    x.append(i)\n",
        "print(' '.join(x))"
      ],
      "metadata": {
        "colab": {
          "base_uri": "https://localhost:8080/"
        },
        "id": "qcYDnEIZ-Zs-",
        "outputId": "a28c735e-921d-4310-8b47-f6ab13bbf8ae"
      },
      "execution_count": null,
      "outputs": [
        {
          "output_type": "stream",
          "name": "stdout",
          "text": [
            "enter string:kevisgeekygeek\n",
            "k e g\n"
          ]
        }
      ]
    },
    {
      "cell_type": "markdown",
      "source": [
        "7. Write a Python Program to check if a string contains any special character?"
      ],
      "metadata": {
        "id": "Rn-Dpk_SIeeJ"
      }
    },
    {
      "cell_type": "code",
      "source": [
        "import re\n",
        "word=input('enter word:')\n",
        "a=re.compile('[^0-9a-zA-Z]+')\n",
        "if a.search(word):\n",
        "  print('has special')"
      ],
      "metadata": {
        "colab": {
          "base_uri": "https://localhost:8080/"
        },
        "id": "ybSVDr5_lzUt",
        "outputId": "ac930e2b-d816-4f71-968b-398c456bafac"
      },
      "execution_count": null,
      "outputs": [
        {
          "output_type": "stream",
          "name": "stdout",
          "text": [
            "enter word:iop.-asQQq@\n",
            "has special\n"
          ]
        }
      ]
    },
    {
      "cell_type": "code",
      "source": [
        "mystring='This is my text with special character (👽)'\n",
        "print(any(not c.isalnum() for c in mystring))"
      ],
      "metadata": {
        "colab": {
          "base_uri": "https://localhost:8080/"
        },
        "id": "EpcsXJNaKWpV",
        "outputId": "774ba8c0-afc0-40f4-ccd4-10f23146b1c0"
      },
      "execution_count": null,
      "outputs": [
        {
          "output_type": "stream",
          "name": "stdout",
          "text": [
            "True\n"
          ]
        }
      ]
    },
    {
      "cell_type": "code",
      "source": [
        "mystring='iop.-asQQq@'\n",
        "print(any(not c.isalnum() for c in mystring))"
      ],
      "metadata": {
        "colab": {
          "base_uri": "https://localhost:8080/"
        },
        "id": "fBz0Y861KiL6",
        "outputId": "9f654405-9bfc-4ca4-b705-8cfa80f9814d"
      },
      "execution_count": null,
      "outputs": [
        {
          "output_type": "stream",
          "name": "stdout",
          "text": [
            "True\n"
          ]
        }
      ]
    },
    {
      "cell_type": "code",
      "source": [
        "mystring='iop'\n",
        "print(any(not c.isalnum() for c in mystring))"
      ],
      "metadata": {
        "colab": {
          "base_uri": "https://localhost:8080/"
        },
        "id": "ckFBwsszKoH7",
        "outputId": "d06f42e6-8507-41a2-d61d-e43d503338f4"
      },
      "execution_count": null,
      "outputs": [
        {
          "output_type": "stream",
          "name": "stdout",
          "text": [
            "False\n"
          ]
        }
      ]
    }
  ]
}