{
  "nbformat": 4,
  "nbformat_minor": 0,
  "metadata": {
    "colab": {
      "provenance": [],
      "authorship_tag": "ABX9TyNfmrBCFC8pW+0KIiw+hLx2",
      "include_colab_link": true
    },
    "kernelspec": {
      "name": "python3",
      "display_name": "Python 3"
    },
    "language_info": {
      "name": "python"
    }
  },
  "cells": [
    {
      "cell_type": "markdown",
      "metadata": {
        "id": "view-in-github",
        "colab_type": "text"
      },
      "source": [
        "<a href=\"https://colab.research.google.com/github/lvd2022/PythonProgrammingAssignment/blob/main/Assignment_5.ipynb\" target=\"_parent\"><img src=\"https://colab.research.google.com/assets/colab-badge.svg\" alt=\"Open In Colab\"/></a>"
      ]
    },
    {
      "cell_type": "markdown",
      "source": [
        "1. Write a Python Program to Find LCM?"
      ],
      "metadata": {
        "id": "oedv_Eei_Pjc"
      }
    },
    {
      "cell_type": "code",
      "execution_count": 10,
      "metadata": {
        "colab": {
          "base_uri": "https://localhost:8080/"
        },
        "id": "t_iK8oTN-_Ao",
        "outputId": "fc4bf685-6180-4833-e0c9-e613ee1beab1"
      },
      "outputs": [
        {
          "output_type": "stream",
          "name": "stdout",
          "text": [
            "enter number1:7\n",
            "enter number2:8\n",
            "56\n"
          ]
        }
      ],
      "source": [
        "num1=int(input('enter number1:'))\n",
        "num2=int(input('enter number2:'))\n",
        "\n",
        "def find_lcm(num1,num2):\n",
        "  if num1>num2:\n",
        "   greater=num1\n",
        "  elif num2>num1:\n",
        "   greater =num2\n",
        "\n",
        "  while True:\n",
        "    if (greater%num1==0) and  (greater%num2==0):\n",
        "     lcm=greater\n",
        "     break\n",
        "    greater+=1\n",
        "  return lcm\n",
        "print(find_lcm(num1,num2))"
      ]
    },
    {
      "cell_type": "markdown",
      "source": [
        "2. Write a Python Program to Find HCF or GCD?"
      ],
      "metadata": {
        "id": "Du6HZkaCFsrC"
      }
    },
    {
      "cell_type": "code",
      "source": [
        "from os import initgroups\n",
        "num1=int(input('enter number1:'))\n",
        "num2=int(input('enter number2:'))\n",
        "\n",
        "def find_hcf(num1,num2):\n",
        "  if num1>num2:\n",
        "   lower=num2\n",
        "  elif num2>num1:\n",
        "   lower =num1\n",
        "\n",
        "  for i in range(1,lower+1):\n",
        "    if (num1%i==0) and  (num2%i==0):\n",
        "     hcf=i     \n",
        "  return hcf\n",
        "print(find_hcf(num1,num2))"
      ],
      "metadata": {
        "colab": {
          "base_uri": "https://localhost:8080/"
        },
        "id": "3j3oI8xAFty5",
        "outputId": "c693341b-4915-426f-9752-99cbdbd4d635"
      },
      "execution_count": 15,
      "outputs": [
        {
          "output_type": "stream",
          "name": "stdout",
          "text": [
            "enter number1:3\n",
            "enter number2:5\n",
            "1\n"
          ]
        }
      ]
    },
    {
      "cell_type": "markdown",
      "source": [
        "3. Write a Python Program to Convert Decimal to Binary, Octal and Hexadecimal?"
      ],
      "metadata": {
        "id": "H1PbSp0kIjPa"
      }
    },
    {
      "cell_type": "code",
      "source": [
        "# Python program to convert decimal into other number systems\n",
        "dec=int(input('enter decimal number:'))\n",
        "print(bin(dec), \"in binary.\")\n",
        "print(oct(dec), \"in octal.\")\n",
        "print(hex(dec), \"in hexadecimal.\")\n"
      ],
      "metadata": {
        "colab": {
          "base_uri": "https://localhost:8080/"
        },
        "id": "rhG_QcsdIoEl",
        "outputId": "7899e1a2-c026-4990-b96c-e6e4a84c1b88"
      },
      "execution_count": 18,
      "outputs": [
        {
          "output_type": "stream",
          "name": "stdout",
          "text": [
            "enter decimal number:12\n",
            "0b1100 in binary.\n",
            "0o14 in octal.\n",
            "0xc in hexadecimal.\n"
          ]
        }
      ]
    },
    {
      "cell_type": "markdown",
      "source": [
        "4. Write a Python Program To Find ASCII value of a character?"
      ],
      "metadata": {
        "id": "E4CJ1H2keg8w"
      }
    },
    {
      "cell_type": "code",
      "source": [
        "K = input(\"enter a character: \")    \n",
        "    \n",
        "print (\"The ASCII value is\" , ord(K))  \n",
        "\n",
        "\n",
        "# print (\"Please enter the String: \", end = \"\")  \n",
        "# string = input()  \n",
        "# string_length = len(string)  \n",
        "# for K in string:  \n",
        "#     ASCII = ord(K)  \n",
        "#     print (K, \"\\t\", ASCII)  "
      ],
      "metadata": {
        "colab": {
          "base_uri": "https://localhost:8080/"
        },
        "id": "WWY70im6eesC",
        "outputId": "5d531472-866c-4d21-8c68-58e1dfc357d8"
      },
      "execution_count": 22,
      "outputs": [
        {
          "output_type": "stream",
          "name": "stdout",
          "text": [
            "enter a character: q\n",
            "The ASCII value is 113\n"
          ]
        }
      ]
    },
    {
      "cell_type": "markdown",
      "source": [
        "5. Write a Python Program to Make a Simple Calculator with 4 basic mathematical operations?"
      ],
      "metadata": {
        "id": "iDmaQa4ifotO"
      }
    },
    {
      "cell_type": "code",
      "source": [
        "def add(x, y):\n",
        "    return x + y\n",
        "def subtract(x, y):\n",
        "    return x - y\n",
        "def multiply(x, y):\n",
        "    return x * y\n",
        "def divide(x, y):\n",
        "    return x / y\n",
        "\n",
        "while True:\n",
        "    choice = input(\"operation choice(add/minus/multiply/divide): \")\n",
        "    if choice in ('add', 'minus', 'multiply', 'divide'):\n",
        "        num1 = float(input(\"first number: \"))\n",
        "        num2 = float(input(\"second number: \"))\n",
        "       \n",
        "        if choice == 'add':\n",
        "            print(add(num1, num2))\n",
        "\n",
        "        elif choice == 'minus':\n",
        "            print(subtract(num1, num2))\n",
        "\n",
        "        elif choice == 'multiply':\n",
        "            print( multiply(num1, num2))\n",
        "\n",
        "        elif choice == 'divide':\n",
        "            print(divide(num1, num2))\n",
        "        \n",
        "        next_calculation = input(\"next calculation? (yes/no): \")\n",
        "        if  next_calculation ==\"no\" or next_calculation =='NO':\n",
        "          break\n",
        " "
      ],
      "metadata": {
        "colab": {
          "base_uri": "https://localhost:8080/"
        },
        "id": "NVzV91P8frgF",
        "outputId": "3ad87213-c1cb-4c56-fe33-83057bb17956"
      },
      "execution_count": 30,
      "outputs": [
        {
          "name": "stdout",
          "output_type": "stream",
          "text": [
            "Enter operation choice(add/minus/multiply/divide): minus\n",
            "Enter first number: 3\n",
            "Enter second number: 4\n",
            "-1.0\n",
            "next calculation? (yes/no): NO\n"
          ]
        }
      ]
    }
  ]
}