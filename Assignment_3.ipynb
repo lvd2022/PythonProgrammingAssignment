{
  "nbformat": 4,
  "nbformat_minor": 0,
  "metadata": {
    "colab": {
      "provenance": []
    },
    "kernelspec": {
      "name": "python3",
      "display_name": "Python 3"
    },
    "language_info": {
      "name": "python"
    }
  },
  "cells": [
    {
      "cell_type": "markdown",
      "source": [
        "1. Write a Python Program to Check if a Number is Positive, Negative or Zero?"
      ],
      "metadata": {
        "id": "6oNK9BftqE5Q"
      }
    },
    {
      "cell_type": "code",
      "execution_count": null,
      "metadata": {
        "colab": {
          "base_uri": "https://localhost:8080/"
        },
        "id": "Fiem_yDGqBFR",
        "outputId": "0e120e9c-f409-4ead-b388-ec23929e02ea"
      },
      "outputs": [
        {
          "output_type": "stream",
          "name": "stdout",
          "text": [
            "number:-6\n",
            "a is negative\n"
          ]
        }
      ],
      "source": [
        "a=int(input('number:'))\n",
        "if a>0:\n",
        "  print('a is positive')\n",
        "elif a<0:\n",
        "   print('a is negative')\n",
        "else:\n",
        "  print('a is zero')\n",
        "\n"
      ]
    },
    {
      "cell_type": "markdown",
      "source": [
        "2. Write a Python Program to Check if a Number is Odd or Even?"
      ],
      "metadata": {
        "id": "5lBWmUAor7YH"
      }
    },
    {
      "cell_type": "code",
      "source": [
        "a=int(input('number:'))\n",
        "if a%2==0:\n",
        "  print('a is even')\n",
        "else:\n",
        "   print('a is odd')\n"
      ],
      "metadata": {
        "colab": {
          "base_uri": "https://localhost:8080/"
        },
        "id": "fHrI51D1sFYs",
        "outputId": "a9730193-834e-49ae-e0cd-8f5351bec18e"
      },
      "execution_count": null,
      "outputs": [
        {
          "output_type": "stream",
          "name": "stdout",
          "text": [
            "number:3\n",
            "a is odd\n"
          ]
        }
      ]
    },
    {
      "cell_type": "markdown",
      "source": [
        "3. Write a Python Program to Check Leap Year?"
      ],
      "metadata": {
        "id": "9YswRVccsm09"
      }
    },
    {
      "cell_type": "code",
      "source": [
        "a=int(input('year:'))\n",
        "if (a%4==0 and a%100!=0) or ( a%400==0 and a%100==0):\n",
        "  print('a is leap_year')\n",
        "else:\n",
        "  print('a is not leap ')"
      ],
      "metadata": {
        "colab": {
          "base_uri": "https://localhost:8080/"
        },
        "id": "wNtFLkHgspsX",
        "outputId": "aa43e643-8f06-41cd-df3b-bbe41e69aaac"
      },
      "execution_count": null,
      "outputs": [
        {
          "output_type": "stream",
          "name": "stdout",
          "text": [
            "year:2004\n",
            "a is leap_year\n"
          ]
        }
      ]
    },
    {
      "cell_type": "markdown",
      "source": [
        "4. Write a Python Program to Check Prime Number?"
      ],
      "metadata": {
        "id": "SQ6mExF-w4Oh"
      }
    },
    {
      "cell_type": "code",
      "source": [
        "a=int(input('number:'))\n",
        "if a >1:\n",
        "  for i in range(2,int(a/2)+1):\n",
        "   if a%i==0:\n",
        "    print('a is not prime')\n",
        "   else:\n",
        "    print('a is prime ')"
      ],
      "metadata": {
        "colab": {
          "base_uri": "https://localhost:8080/"
        },
        "id": "xRYpo3ECw7C4",
        "outputId": "e65fc7f4-14f2-41ae-b64f-5cea0b68db42"
      },
      "execution_count": null,
      "outputs": [
        {
          "name": "stdout",
          "output_type": "stream",
          "text": [
            "number:3\n"
          ]
        }
      ]
    },
    {
      "cell_type": "markdown",
      "source": [
        "5. Write a Python Program to Print all Prime Numbers in an Interval of 1-10000?"
      ],
      "metadata": {
        "id": "nLu1UTOPGPJY"
      }
    },
    {
      "cell_type": "code",
      "source": [
        "lower=int(input('lower number:'))\n",
        "upper=int(input('upper number:'))\n",
        "print('prime numbers are:')\n",
        "for i in range(lower, upper + 1): \n",
        "   if i> 1:\n",
        "       for j in range(2, i):\n",
        "           if (i % j) == 0:\n",
        "               break\n",
        "       else:\n",
        "           print(j)\n",
        "    \n"
      ],
      "metadata": {
        "colab": {
          "base_uri": "https://localhost:8080/"
        },
        "id": "DM8q-lECGbBX",
        "outputId": "78dea853-f741-48c3-cd32-bbef6eb6f0fb"
      },
      "execution_count": 14,
      "outputs": [
        {
          "output_type": "stream",
          "name": "stdout",
          "text": [
            "lower number:3\n",
            "upper number:13\n",
            "prime number between 3 and 13\n",
            "2\n",
            "4\n",
            "6\n",
            "10\n",
            "12\n"
          ]
        }
      ]
    }
  ]
}