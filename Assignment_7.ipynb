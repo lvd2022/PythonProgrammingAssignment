{
  "nbformat": 4,
  "nbformat_minor": 0,
  "metadata": {
    "colab": {
      "provenance": [],
      "authorship_tag": "ABX9TyNfsZ51MxYIm08XalxAj4vv",
      "include_colab_link": true
    },
    "kernelspec": {
      "name": "python3",
      "display_name": "Python 3"
    },
    "language_info": {
      "name": "python"
    }
  },
  "cells": [
    {
      "cell_type": "markdown",
      "metadata": {
        "id": "view-in-github",
        "colab_type": "text"
      },
      "source": [
        "<a href=\"https://colab.research.google.com/github/lvd2022/PythonProgrammingAssignment/blob/main/Assignment_7.ipynb\" target=\"_parent\"><img src=\"https://colab.research.google.com/assets/colab-badge.svg\" alt=\"Open In Colab\"/></a>"
      ]
    },
    {
      "cell_type": "markdown",
      "source": [
        "1. Write a Python Program to find sum of array?\n",
        "\n"
      ],
      "metadata": {
        "id": "WVQtcG4cEJxC"
      }
    },
    {
      "cell_type": "code",
      "source": [
        "a=int(input(\"Number of elements in the array\"))\n",
        "array_is=list(map(int, input(\"elements of array  \").strip().split()))\n",
        "sum_is = sum(array_is)\n",
        "print(sum_is)"
      ],
      "metadata": {
        "colab": {
          "base_uri": "https://localhost:8080/"
        },
        "id": "VwwoAhDAHkyT",
        "outputId": "9dc8de0e-5d1f-474a-ae4f-d1ac22aa002d"
      },
      "execution_count": 7,
      "outputs": [
        {
          "output_type": "stream",
          "name": "stdout",
          "text": [
            "Number of elements in the array2\n",
            "elements of array  1 2\n",
            "3\n"
          ]
        }
      ]
    },
    {
      "cell_type": "markdown",
      "source": [
        "2. Write a Python Program to find largest element in an array?"
      ],
      "metadata": {
        "id": "V3Iqy3pUEM9J"
      }
    },
    {
      "cell_type": "code",
      "source": [
        "a=int(input(\"Number of elements in the array\"))\n",
        "array_is=list(map(int,input('enter elements: ').strip().split()))\n",
        "array_is.sort()\n",
        "print(array_is[a-1])\n",
        " "
      ],
      "metadata": {
        "colab": {
          "base_uri": "https://localhost:8080/"
        },
        "id": "dS_NvlA9EPix",
        "outputId": "a5099797-0fe8-4fec-d511-eb18405f45aa"
      },
      "execution_count": 18,
      "outputs": [
        {
          "output_type": "stream",
          "name": "stdout",
          "text": [
            "Number of elements in the array4\n",
            "enter elements: 1 2 3 4\n",
            "4\n"
          ]
        }
      ]
    },
    {
      "cell_type": "code",
      "source": [
        "n=int(input(\"Number of elements in the array\"))\n",
        "arr=list(map(int,input('enter elements: ').strip().split()))\n",
        "def largest(arr, n):\n",
        "    ans = max(arr)\n",
        "    return ans\n",
        "print(largest(arr, n))"
      ],
      "metadata": {
        "colab": {
          "base_uri": "https://localhost:8080/"
        },
        "id": "Xv2wk6OdPO5H",
        "outputId": "0d2e652c-ae57-49f2-c530-017f87bc37b0"
      },
      "execution_count": 19,
      "outputs": [
        {
          "output_type": "stream",
          "name": "stdout",
          "text": [
            "Number of elements in the array4\n",
            "enter elements: 1 2 3 4\n",
            "4\n"
          ]
        }
      ]
    },
    {
      "cell_type": "markdown",
      "source": [
        "3. Write a Python Program for array rotation?"
      ],
      "metadata": {
        "id": "vaGsNXdlEP4p"
      }
    },
    {
      "cell_type": "code",
      "source": [
        "n=int(input(\"Number of elements in the array \"))\n",
        "arr=list(map(int,input('enter elements: ').strip().split()))\n",
        "d=int(input('enter number of rotation: '))\n",
        "\n",
        "def rotateArray(arr,d,n):\n",
        " arr=arr[d:n]+arr[0:d]\n",
        " return arr\n",
        "\n",
        "print('array is '+ str(arr))\n",
        "print('rotated array is: '+ str(rotateArray(arr,d,len(arr))))"
      ],
      "metadata": {
        "colab": {
          "base_uri": "https://localhost:8080/"
        },
        "id": "MwZmqkIyETQh",
        "outputId": "bd39eedf-d6f7-421d-87da-332d9c0e4fe4"
      },
      "execution_count": 27,
      "outputs": [
        {
          "output_type": "stream",
          "name": "stdout",
          "text": [
            "Number of elements in the array 3\n",
            "enter elements: 1 2 3\n",
            "enter number of rotation: 2\n",
            "array is [1, 2, 3]\n",
            "rotated array is: [3, 1, 2]\n"
          ]
        }
      ]
    },
    {
      "cell_type": "markdown",
      "source": [
        "4. Write a Python Program to Split the array and add the first part to the end?"
      ],
      "metadata": {
        "id": "No0sdg3jEPwy"
      }
    },
    {
      "cell_type": "code",
      "source": [
        "n=int(input(\"Number of elements in the array \"))\n",
        "a=list(map(int,input('enter elements: ').strip().split()))\n",
        "d=int(input('split at location: '))\n",
        "\n",
        "def splitArr(a, n, d):\n",
        " return a[d:]+a[:d]\n",
        " \t\t\n",
        "print('splitted array is: '+ str(splitArr(a, n, d)))\n",
        "# for i in range(0, n):\n",
        "# \tprint(arr[i], end = ' ')\n"
      ],
      "metadata": {
        "colab": {
          "base_uri": "https://localhost:8080/"
        },
        "id": "U3A_UkMEYdpO",
        "outputId": "1e94a7df-1a4c-485e-a10e-58fd2982c6b9"
      },
      "execution_count": 51,
      "outputs": [
        {
          "output_type": "stream",
          "name": "stdout",
          "text": [
            "Number of elements in the array 5\n",
            "enter elements: 1 2 3 4 55\n",
            "split at location: 3\n",
            "splitted array is: [4, 55, 1, 2, 3]\n"
          ]
        }
      ]
    },
    {
      "cell_type": "markdown",
      "source": [
        "5. Write a Python Program to check if given array is Monotonic?"
      ],
      "metadata": {
        "id": "ypSXJH97EWj5"
      }
    },
    {
      "cell_type": "code",
      "source": [
        "A =list(map(int,input('enter elements: ').strip().split()))\n",
        "\n",
        "def isMonotonic(A):\n",
        "\tx, y = [], []\n",
        "\tx.extend(A)\n",
        "\ty.extend(A)\n",
        "\tx.sort()\n",
        "\ty.sort(reverse=True)\n",
        "\tif(x == A or y == A):\n",
        "\t\treturn True\n",
        "\treturn False\n",
        "\n",
        "print(isMonotonic(A))\n"
      ],
      "metadata": {
        "colab": {
          "base_uri": "https://localhost:8080/"
        },
        "id": "H3bDA2qMEZy4",
        "outputId": "2326ecdf-8d2e-41d6-d718-0b3c8edbe8ac"
      },
      "execution_count": 59,
      "outputs": [
        {
          "output_type": "stream",
          "name": "stdout",
          "text": [
            "enter elements: 1 2 3 4 3 2 4\n",
            "[1, 2, 3, 4, 55]\n",
            "None\n"
          ]
        }
      ]
    }
  ]
}