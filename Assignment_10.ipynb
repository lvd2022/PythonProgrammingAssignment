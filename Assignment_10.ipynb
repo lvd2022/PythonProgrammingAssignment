{
  "nbformat": 4,
  "nbformat_minor": 0,
  "metadata": {
    "colab": {
      "provenance": [],
      "authorship_tag": "ABX9TyNYnxrTQsmvDv8zOm89yxrG",
      "include_colab_link": true
    },
    "kernelspec": {
      "name": "python3",
      "display_name": "Python 3"
    },
    "language_info": {
      "name": "python"
    }
  },
  "cells": [
    {
      "cell_type": "markdown",
      "metadata": {
        "id": "view-in-github",
        "colab_type": "text"
      },
      "source": [
        "<a href=\"https://colab.research.google.com/github/lvd2022/PythonProgrammingAssignment/blob/main/Assignment_10.ipynb\" target=\"_parent\"><img src=\"https://colab.research.google.com/assets/colab-badge.svg\" alt=\"Open In Colab\"/></a>"
      ]
    },
    {
      "cell_type": "markdown",
      "source": [
        "**Input into list through various methods**"
      ],
      "metadata": {
        "id": "-jvxAk7ru2fy"
      }
    },
    {
      "cell_type": "code",
      "execution_count": null,
      "metadata": {
        "colab": {
          "base_uri": "https://localhost:8080/"
        },
        "id": "q53A9VOxgYnN",
        "outputId": "7d5b642a-2f47-4dc1-a844-f0fc444606c1"
      },
      "outputs": [
        {
          "output_type": "stream",
          "name": "stdout",
          "text": [
            "Enter number of elements : 4\n",
            "1\n",
            "2\n",
            "3\n",
            "4\n",
            "[1, 2, 3, 4]\n"
          ]
        }
      ],
      "source": [
        "#basic method\n",
        "# creating an empty list\n",
        "lst = []\n",
        "\n",
        "# number of elements as input\n",
        "n = int(input(\"Enter number of elements : \"))\n",
        "\n",
        "# iterating till the range\n",
        "for i in range(0, n):\n",
        "\tele = int(input())\n",
        "\n",
        "\tlst.append(ele) # adding the element\n",
        "\t\n",
        "print(lst)\n",
        "\n"
      ]
    },
    {
      "cell_type": "code",
      "source": [
        "# try block to handle the exception\n",
        "try:\n",
        "\tmy_list = []\n",
        "\t\n",
        "\twhile True:\n",
        "\t\tmy_list.append(int(input()))\n",
        "\t\t\n",
        "# if the input is not-integer, just print the list\n",
        "except:\n",
        "\tprint(my_list)\n"
      ],
      "metadata": {
        "colab": {
          "base_uri": "https://localhost:8080/"
        },
        "id": "kz7Nes3KnsDY",
        "outputId": "b74ad803-72d4-4b75-d4f7-6ad39052dd03"
      },
      "execution_count": null,
      "outputs": [
        {
          "output_type": "stream",
          "name": "stdout",
          "text": [
            "1\n",
            "2\n",
            "3\n",
            "4\n",
            "none\n",
            "[1, 2, 3, 4]\n"
          ]
        }
      ]
    },
    {
      "cell_type": "code",
      "source": [
        "# number of elements\n",
        "n = int(input(\"Enter number of elements : \"))\n",
        "\n",
        "# Below line read inputs from user using map() function\n",
        "a = list(map(int,input(\"\\nEnter the numbers : \").strip().split()))1\n",
        "\n",
        "print(\"\\nList is - \", a)\n"
      ],
      "metadata": {
        "colab": {
          "base_uri": "https://localhost:8080/"
        },
        "id": "JIqrLZDVob3D",
        "outputId": "0a713b23-e788-4cd0-cb0e-450f0e14cde0"
      },
      "execution_count": null,
      "outputs": [
        {
          "output_type": "stream",
          "name": "stdout",
          "text": [
            "Enter number of elements : 3\n",
            "\n",
            "Enter the numbers :  1 2 3 \n",
            "\n",
            "List is -  [1, 2, 3]\n"
          ]
        }
      ]
    },
    {
      "cell_type": "code",
      "source": [
        "#List of lists as input \n",
        "lst = [ ]\n",
        "n = int(input(\"Enter number of elements : \"))\n",
        "\n",
        "for i in range(0, n):\n",
        "\tele = [input(), int(input())]\n",
        "\tlst.append(ele)\n",
        "\t\n",
        "print(lst)\n",
        "3\n"
      ],
      "metadata": {
        "colab": {
          "base_uri": "https://localhost:8080/"
        },
        "id": "YHUSio7Kp9VV",
        "outputId": "42965f56-145e-4fdf-9b09-d0b03c8be1e5"
      },
      "execution_count": null,
      "outputs": [
        {
          "output_type": "stream",
          "name": "stdout",
          "text": [
            "Enter number of elements : 3\n",
            "geeks\n",
            "2\n",
            "hejm\n",
            "3\n",
            "kedjke\n",
            "3\n",
            "[['geeks', 2], ['hejm', 3], ['kedjke', 3]]\n"
          ]
        }
      ]
    },
    {
      "cell_type": "code",
      "source": [
        "l1=[]\n",
        "l2=[]\n",
        "l1=[int(item) for item in input('enter').split()]\n",
        "l2=[item for item in input('enter').split()]\n",
        "print(l1)\n",
        "print(l2)\n"
      ],
      "metadata": {
        "colab": {
          "base_uri": "https://localhost:8080/"
        },
        "id": "Y1A0rx43qmRr",
        "outputId": "6ab8a24d-3638-4af5-83c8-be8dfcc8129e"
      },
      "execution_count": null,
      "outputs": [
        {
          "output_type": "stream",
          "name": "stdout",
          "text": [
            "enter1 2 3 \n",
            "enterwk 3 wbsxw4\n",
            "[1, 2, 3]\n",
            "['wk', '3', 'wbsxw4']\n"
          ]
        }
      ]
    },
    {
      "cell_type": "markdown",
      "source": [
        "1. Write a Python program to find sum of elements in list?"
      ],
      "metadata": {
        "id": "MfqjZhhYu_Ob"
      }
    },
    {
      "cell_type": "code",
      "source": [
        "import operator\n",
        "list1 = [12, 15, 3, 10] \n",
        "s=0\n",
        "for i in list1:\n",
        " s=s+operator.add(0,i)\n",
        "print(s)\n",
        "\n"
      ],
      "metadata": {
        "colab": {
          "base_uri": "https://localhost:8080/"
        },
        "id": "rkrNjupEySW8",
        "outputId": "aacb6b21-f17d-47b5-9bf1-72d20a6bff65"
      },
      "execution_count": null,
      "outputs": [
        {
          "output_type": "stream",
          "name": "stdout",
          "text": [
            "40\n"
          ]
        }
      ]
    },
    {
      "cell_type": "markdown",
      "source": [
        "2. Write a Python program to Multiply all numbers in the list?"
      ],
      "metadata": {
        "id": "nro-8tdNge3k"
      }
    },
    {
      "cell_type": "code",
      "source": [
        "l1=[]\n",
        "l1=[int(item) for item in input('enter').split()]\n",
        "m=1\n",
        "for i in l1:\n",
        "  m*=i\n",
        "  i*=1\n",
        "print(m)\n",
        "\n"
      ],
      "metadata": {
        "colab": {
          "base_uri": "https://localhost:8080/"
        },
        "outputId": "e2154d1e-3c5f-4424-8c9e-5c348b367e14",
        "id": "jjGPjm4y4xC2"
      },
      "execution_count": null,
      "outputs": [
        {
          "output_type": "stream",
          "name": "stdout",
          "text": [
            "enter2 3 4\n",
            "24\n"
          ]
        }
      ]
    },
    {
      "cell_type": "markdown",
      "source": [
        "3. Write a Python program to find smallest number in a list?"
      ],
      "metadata": {
        "id": "0Lt2x5g8gh8C"
      }
    },
    {
      "cell_type": "code",
      "source": [
        "list1 = [int(item) for item in input('enter').split()]\n",
        "list1.sort()\n",
        "print(list1[0])\n"
      ],
      "metadata": {
        "colab": {
          "base_uri": "https://localhost:8080/"
        },
        "id": "CWuniwUVgkW9",
        "outputId": "c6980699-5912-480f-ef33-046f32aca2aa"
      },
      "execution_count": null,
      "outputs": [
        {
          "output_type": "stream",
          "name": "stdout",
          "text": [
            "enter1 2 3 0\n",
            "0\n"
          ]
        }
      ]
    },
    {
      "cell_type": "markdown",
      "source": [
        "4. Write a Python program to find largest number in a list?"
      ],
      "metadata": {
        "id": "nkwiU7ZAgkqU"
      }
    },
    {
      "cell_type": "code",
      "source": [
        "list1 = [int(item) for item in input('enter').split()]\n",
        "list1.sort()\n",
        "print(list1[-1])\n"
      ],
      "metadata": {
        "colab": {
          "base_uri": "https://localhost:8080/"
        },
        "id": "rA9SUkg0gnAF",
        "outputId": "648d2b9f-7959-459d-a4d2-c90dab006093"
      },
      "execution_count": null,
      "outputs": [
        {
          "output_type": "stream",
          "name": "stdout",
          "text": [
            "enter12 3 4 5 6 56 67 98 0\n",
            "98\n"
          ]
        }
      ]
    },
    {
      "cell_type": "markdown",
      "source": [
        "5. Write a Python program to find second largest number in a list?"
      ],
      "metadata": {
        "id": "0TlyOz3pgnQF"
      }
    },
    {
      "cell_type": "code",
      "source": [
        "list1 = [int(item) for item in input('enter').split()]\n",
        "list1.sort()\n",
        "print(list1[-2])"
      ],
      "metadata": {
        "id": "9FUwnkALgqGM"
      },
      "execution_count": null,
      "outputs": []
    },
    {
      "cell_type": "markdown",
      "source": [
        "6. Write a Python program to find N largest elements from a list?"
      ],
      "metadata": {
        "id": "C2RKEeu3gqT-"
      }
    },
    {
      "cell_type": "code",
      "source": [
        "# l = [int(item) for item in input('enter').strip().split()]\n",
        "# n = int(input('enter:'))\n",
        "\n",
        "# l.sort()\n",
        "# print(l[-n:])\n",
        "\n"
      ],
      "metadata": {
        "id": "n-1QpTva_Ttf"
      },
      "execution_count": 11,
      "outputs": []
    },
    {
      "cell_type": "code",
      "source": [
        "def largest_n(l,N):\n",
        "  l.sort()\n",
        "  return l[-N:]\n",
        "\n",
        "l=[]\n",
        "n=int(input('size: '))\n",
        "for i in range(0,n):\n",
        "  e=int(input('enter element:'))\n",
        "  l.append(e)\n",
        "N=int(input('lsrgest N:'))\n",
        "print(N , 'largest elements in ', l)\n",
        "print(largest_n(l,N))"
      ],
      "metadata": {
        "colab": {
          "base_uri": "https://localhost:8080/"
        },
        "id": "wufh0d0_IYI5",
        "outputId": "5172cc30-4c47-49d4-c623-9e5dc891474d"
      },
      "execution_count": 12,
      "outputs": [
        {
          "output_type": "stream",
          "name": "stdout",
          "text": [
            "size: 5\n",
            "enter element:34\n",
            "enter element:34\n",
            "enter element:23\n",
            "enter element:0\n",
            "enter element:2\n",
            "lsrgest N:2\n",
            "2 largest elements in  [34, 34, 23, 0, 2]\n",
            "[34, 34]\n"
          ]
        }
      ]
    },
    {
      "cell_type": "markdown",
      "source": [
        "\\7. Write a Python program to print even numbers in a list?"
      ],
      "metadata": {
        "id": "-u_Ep0w4gtDl"
      }
    },
    {
      "cell_type": "code",
      "source": [
        "evenlist=[]\n",
        "l=[]\n",
        "\n",
        "  \n",
        "n=int(input('size: '))\n",
        "for i in range(0,n):\n",
        "   e=int(input('enter element:'))\n",
        "   l.append(e)\n",
        "   if e%2==0:\n",
        "     evenlist.append(e)\n",
        "   \n",
        "print('even elements in ', l, 'are', evenlist)\n"
      ],
      "metadata": {
        "id": "LU944hpugwEL",
        "colab": {
          "base_uri": "https://localhost:8080/"
        },
        "outputId": "20d06b73-bb64-4b2c-ec19-865d3a657ec7"
      },
      "execution_count": 16,
      "outputs": [
        {
          "output_type": "stream",
          "name": "stdout",
          "text": [
            "size: 4\n",
            "enter element:1 \n",
            "enter element:2\n",
            "enter element:3\n",
            "enter element:4\n",
            "even elements in  [1, 2, 3, 4] are [2, 4]\n"
          ]
        }
      ]
    },
    {
      "cell_type": "code",
      "source": [
        "#list comprehension\n",
        "l=[]  \n",
        "n=int(input('size: '))\n",
        "for i in range(0,n):\n",
        "   e=int(input('enter element:'))\n",
        "   l.append(e)\n",
        "\n",
        "even_nos = [num for num in l if num % 2 == 0]\n",
        " \n",
        "print(\"Even numbers in the list: \", even_nos)"
      ],
      "metadata": {
        "colab": {
          "base_uri": "https://localhost:8080/"
        },
        "id": "5PxJuBOou6tu",
        "outputId": "7b48f68c-52af-4ad8-ea39-fe4bb20a719f"
      },
      "execution_count": 18,
      "outputs": [
        {
          "output_type": "stream",
          "name": "stdout",
          "text": [
            "size: 4\n",
            "enter element:23 \n",
            "enter element:34\n",
            "enter element:12\n",
            "enter element:2\n",
            "Even numbers in the list:  [34, 12, 2]\n"
          ]
        }
      ]
    },
    {
      "cell_type": "code",
      "source": [
        "#lambda expression\n",
        "# Python program to print Even Numbers in a List\n",
        " \n",
        "# list of numbers\n",
        "list1 = [10, 21, 4, 45, 66, 93, 11]\n",
        " \n",
        " \n",
        "# we can also print even no's using lambda exp.\n",
        "even_nos = list(filter(lambda x: (x % 2 == 0), list1))\n",
        " \n",
        "print(\"Even numbers in the list: \", even_nos)"
      ],
      "metadata": {
        "id": "x0Jo5tsd3RVn"
      },
      "execution_count": null,
      "outputs": []
    },
    {
      "cell_type": "code",
      "source": [
        "#recursion\n",
        "#Python program to print\n",
        "#even numbers in a list using recursion\n",
        "def evennumbers(list, n=0):\n",
        "\t#base case\n",
        "\tif n==len(list):\n",
        "\t\texit()\n",
        "\tif list[n]%2==0:\n",
        "\t\tprint(list[n], end=\" \")\n",
        "\t#calling function recursively\n",
        "\tevennumbers(list, n+1)\n",
        "list1 = [10, 21, 4, 45, 66, 93]\n",
        "print(\"Even numbers in the list:\", end=\" \")\n",
        "evennumbers(list1)\n"
      ],
      "metadata": {
        "id": "gpMwl_1Q3VbQ"
      },
      "execution_count": null,
      "outputs": []
    },
    {
      "cell_type": "code",
      "source": [
        "#using numpy array\n",
        "import numpy as np\n",
        " \n",
        "# Declaring Range\n",
        "temp = [2, 7, 5, 64, 14]\n",
        "li = np.array(temp)\n",
        " \n",
        "# printing odd numbers using numpy array\n",
        "even_num = li[li % 2 == 0]\n",
        "print(even_num)"
      ],
      "metadata": {
        "colab": {
          "base_uri": "https://localhost:8080/"
        },
        "id": "t-VIKDDRzvHQ",
        "outputId": "6d5a4420-95cd-4505-af9d-263ce521ef15"
      },
      "execution_count": 24,
      "outputs": [
        {
          "output_type": "stream",
          "name": "stdout",
          "text": [
            "[ 2 64 14]\n"
          ]
        }
      ]
    },
    {
      "cell_type": "code",
      "source": [
        "#enumerate function\n",
        "list1 = [2, 7, 5, 64, 14]\n",
        "for a,i in enumerate(list1):\n",
        " if i%2==0:\n",
        "\t print(i,end=\" \")"
      ],
      "metadata": {
        "colab": {
          "base_uri": "https://localhost:8080/"
        },
        "id": "KI0O59k9zxsS",
        "outputId": "2b179978-b175-4b97-f92e-5f88eac775cc"
      },
      "execution_count": 25,
      "outputs": [
        {
          "output_type": "stream",
          "name": "stdout",
          "text": [
            "2 64 14 "
          ]
        }
      ]
    },
    {
      "cell_type": "code",
      "source": [
        "#using pass\n",
        "\n",
        "list1 = [2, 7, 5, 64, 14]\n",
        "for i in list1:\n",
        "if i%2!=0:\n",
        "\tpass\n",
        "else:\n",
        "\tprint(i,end=\" \")\n"
      ],
      "metadata": {
        "id": "Zg4CV57T3bCs"
      },
      "execution_count": null,
      "outputs": []
    },
    {
      "cell_type": "code",
      "source": [
        "#using while\n",
        "# Python program to print Even Numbers in a List\n",
        " \n",
        "# list of numbers\n",
        "list1 = [10, 24, 4, 45, 66, 93]\n",
        "num = 0\n",
        " \n",
        "# using while loop\n",
        "while(num < len(list1)):\n",
        " \n",
        "    # checking condition\n",
        "    if list1[num] % 2 == 0:\n",
        "        print(list1[num], end=\" \")\n",
        " \n",
        "    # increment num\n",
        "    num += 1"
      ],
      "metadata": {
        "id": "Bjvajis23h9N"
      },
      "execution_count": null,
      "outputs": []
    },
    {
      "cell_type": "code",
      "source": [
        "#using for loop\n",
        "# Python program to print Even Numbers in a List\n",
        "\n",
        "# list of numbers\n",
        "list1 = [10, 21, 4, 45, 66, 93]\n",
        "\n",
        "# iterating each number in list\n",
        "for num in list1:\n",
        "\n",
        "\t# checking condition\n",
        "\tif num % 2 == 0:\n",
        "\t\tprint(num, end=\" \")\n"
      ],
      "metadata": {
        "id": "9bcnlfhS3lvF"
      },
      "execution_count": null,
      "outputs": []
    },
    {
      "cell_type": "markdown",
      "source": [
        "8. Write a Python program to print odd numbers in a List?"
      ],
      "metadata": {
        "id": "tWw2l1P4gwTK"
      }
    },
    {
      "cell_type": "code",
      "source": [
        "l=[]  \n",
        "n=int(input('size: '))\n",
        "for i in range(0,n):\n",
        "   e=int(input('enter element:'))\n",
        "   l.append(e)\n",
        "\n",
        "odd_nos = [num for num in l if num % 2 != 0]\n",
        " \n",
        "print(\"odd numbers in the list: \", odd_nos)"
      ],
      "metadata": {
        "id": "niFfJautgyqU",
        "colab": {
          "base_uri": "https://localhost:8080/"
        },
        "outputId": "2e1f6d5b-c61f-4f27-ba3d-d50fbf3d7794"
      },
      "execution_count": 19,
      "outputs": [
        {
          "output_type": "stream",
          "name": "stdout",
          "text": [
            "size: 3\n",
            "enter element:2 \n",
            "enter element:1\n",
            "enter element:3\n",
            "odd numbers in the list:  [1, 3]\n"
          ]
        }
      ]
    },
    {
      "cell_type": "markdown",
      "source": [
        "9. Write a Python program to Remove empty List from List?"
      ],
      "metadata": {
        "id": "A5NWgs20gy4C"
      }
    },
    {
      "cell_type": "code",
      "source": [
        "# list comprehension\n",
        "test_list = [5, 6, [], 3, [], [], 9]#input list\n",
        "res = [ele for ele in test_list if ele != []]#remove empty list\n",
        "print(\"List after empty list removal : \" + str(res))#result\n"
      ],
      "metadata": {
        "id": "K3V7D2r4g1ah",
        "colab": {
          "base_uri": "https://localhost:8080/"
        },
        "outputId": "5d056e77-878c-44c8-a5c9-9f61b086995a"
      },
      "execution_count": 27,
      "outputs": [
        {
          "output_type": "stream",
          "name": "stdout",
          "text": [
            "List after empty list removal : [5, 6, 3, 9]\n"
          ]
        }
      ]
    },
    {
      "cell_type": "code",
      "source": [
        "# using filter() Method\n",
        "test_list = [5, 6, [], 3, [], [], 9]\n",
        "res = list(filter(None, test_list))#remove empty list\n",
        "print(\"List after empty list removal : \" + str(res))\n"
      ],
      "metadata": {
        "id": "vry02BXI5L19"
      },
      "execution_count": null,
      "outputs": []
    },
    {
      "cell_type": "code",
      "source": [
        "#  Remove method\n",
        "test_list = [5, 6, [], 3, [], [], 9]\n",
        "while [] in test_list :\n",
        "\ttest_list.remove([])\n",
        "print(\"List after empty list removal : \" + str(test_list))\n"
      ],
      "metadata": {
        "id": "CHxMfS3w6yjy"
      },
      "execution_count": null,
      "outputs": []
    },
    {
      "cell_type": "code",
      "source": [
        "#enumerate function\n",
        "test_list = [5, 6, [], 3, [], [], 9]\n",
        "res = [ele for i,ele in enumerate(test_list) if ele != []]\n",
        "print(res)\n"
      ],
      "metadata": {
        "id": "gqS7Tk9S6-BH"
      },
      "execution_count": null,
      "outputs": []
    },
    {
      "cell_type": "markdown",
      "source": [
        "10. Write a Python program to Cloning or Copying a list?"
      ],
      "metadata": {
        "id": "HBcKkzRxg1uR"
      }
    },
    {
      "cell_type": "code",
      "source": [
        "# Using list comprehension\n",
        "lst = [4, 8, 2, 10, 15, 18]\n",
        "li_copy = [i for a,i in enumerate(lst)]\n",
        "print(\"After Cloning:\", li_copy)\n"
      ],
      "metadata": {
        "id": "Irz1GKuLg4GL"
      },
      "execution_count": null,
      "outputs": []
    },
    {
      "cell_type": "code",
      "source": [
        "#deep copy method\n",
        "# importing copy module\n",
        "import copy\n",
        "li1 = [1, 2, [3,5], 4]\n",
        "li3 = copy.deepcopy(li1)\n",
        "print(li3)\n"
      ],
      "metadata": {
        "id": "WqZ1OsxZ7gdR"
      },
      "execution_count": null,
      "outputs": []
    },
    {
      "cell_type": "code",
      "source": [
        "#extend method\n",
        "def Cloning(li1):\n",
        "\tli_copy = []\n",
        "\tli_copy.extend(li1)\n",
        "\treturn li_copy\n",
        "li1 = [4, 8, 2, 10, 15, 18]\n",
        "li2 = Cloning(li1)\n",
        "print(\"After Cloning:\", li2)\n"
      ],
      "metadata": {
        "id": "X4eknZsP76q1"
      },
      "execution_count": null,
      "outputs": []
    },
    {
      "cell_type": "code",
      "source": [
        "# Using the Slice Operator\n",
        "def Cloning(li1):\n",
        "\tli_copy = li1[:]\n",
        "\treturn li_copy\n",
        "# Driver Code\n",
        "li1 = [4, 8, 2, 10, 15, 18]\n",
        "li2 = Cloning(li1)\n",
        "print(\"After Cloning:\", li2)\n"
      ],
      "metadata": {
        "id": "_tSyQm348GjL"
      },
      "execution_count": null,
      "outputs": []
    },
    {
      "cell_type": "markdown",
      "source": [
        "11. Write a Python program to Count occurrences of an element in a list?"
      ],
      "metadata": {
        "id": "70mKzPnmg4Wh"
      }
    },
    {
      "cell_type": "code",
      "source": [
        "#list comrehension\n",
        "l = [1, 1, 2, 2, 2, 3, 3, 4, 4, 5, 5]\n",
        "ele=1\n",
        "x=[i for i in l if i==ele]\n",
        "print(\"the element\",ele,\"occurs\",len(x),\"times\")\n"
      ],
      "metadata": {
        "id": "lV6uyJEbg6-3",
        "colab": {
          "base_uri": "https://localhost:8080/"
        },
        "outputId": "8b1531b9-4ef9-47da-d786-53c2880243d8"
      },
      "execution_count": 28,
      "outputs": [
        {
          "output_type": "stream",
          "name": "stdout",
          "text": [
            "the element 1 occurs 2 times\n"
          ]
        }
      ]
    },
    {
      "cell_type": "code",
      "source": [
        "#pandas\n",
        "import pandas as pd\n",
        "l = [1, 1, 2, 2, 2, 3, 3, 4, 4, 5, 5]\n",
        "count = pd.Series(l).value_counts()\n",
        "print(\"Element Count\")\n",
        "print(count)\n"
      ],
      "metadata": {
        "colab": {
          "base_uri": "https://localhost:8080/"
        },
        "id": "6_cyJ5g98iRV",
        "outputId": "06aeacae-b330-4ae1-db36-d2fee1e40f26"
      },
      "execution_count": 29,
      "outputs": [
        {
          "output_type": "stream",
          "name": "stdout",
          "text": [
            "Element Count\n",
            "2    3\n",
            "1    2\n",
            "3    2\n",
            "4    2\n",
            "5    2\n",
            "dtype: int64\n"
          ]
        }
      ]
    },
    {
      "cell_type": "code",
      "source": [
        "#dictionary comprehension\n",
        "lis = ['a', 'd', 'd', 'c', 'a', 'b', 'b', 'a', 'c', 'd', 'e']\n",
        "occurrence = {item: lis.count(item) for item in lis}\n",
        "print(occurrence.get('e'))\n"
      ],
      "metadata": {
        "colab": {
          "base_uri": "https://localhost:8080/"
        },
        "id": "GcxqKXrY8upk",
        "outputId": "85108083-70fe-43e5-a5d2-557edb5ccf98"
      },
      "execution_count": 30,
      "outputs": [
        {
          "output_type": "stream",
          "name": "stdout",
          "text": [
            "1\n"
          ]
        }
      ]
    },
    {
      "cell_type": "code",
      "source": [
        "#countof\n",
        "import operator as op\n",
        "l = [1, 1, 2, 2, 2, 3, 3, 4, 4, 5, 5]\n",
        "x = 2\n",
        "print(f\"{x} has occurred {op.countOf(l, x)} times\")\n"
      ],
      "metadata": {
        "colab": {
          "base_uri": "https://localhost:8080/"
        },
        "id": "i6wXBzn89YDc",
        "outputId": "8d929802-7aae-4ea6-b5a0-5860f8e9aa91"
      },
      "execution_count": 31,
      "outputs": [
        {
          "output_type": "stream",
          "name": "stdout",
          "text": [
            "2 has occurred 3 times\n"
          ]
        }
      ]
    },
    {
      "cell_type": "code",
      "source": [
        "#counter\n",
        "from collections import Counter\n",
        "l = [1, 1, 2, 2, 3, 3, 4, 4, 5, 5]\n",
        "x = 3\n",
        "d = Counter(l)\n",
        "print('{} has occurred {} times'.format(x, d[x]))\n"
      ],
      "metadata": {
        "id": "hjvVdqMN9nUi"
      },
      "execution_count": null,
      "outputs": []
    }
  ]
}